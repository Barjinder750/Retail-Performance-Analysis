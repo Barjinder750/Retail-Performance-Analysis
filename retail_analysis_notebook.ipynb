{
 "cells": [
  {
   "cell_type": "markdown",
   "id": "c6c7ae62",
   "metadata": {},
   "source": [
    "# Retail Profitability Analysis - Python Notebook"
   ]
  },
  {
   "cell_type": "code",
   "execution_count": null,
   "id": "a0073d35",
   "metadata": {},
   "outputs": [],
   "source": [
    "import pandas as pd\n",
    "import seaborn as sns\n",
    "import matplotlib.pyplot as plt"
   ]
  },
  {
   "cell_type": "code",
   "execution_count": null,
   "id": "290a152d",
   "metadata": {},
   "outputs": [],
   "source": [
    "df = pd.read_csv('retail_data_sample.csv')\n",
    "df.head()"
   ]
  },
  {
   "cell_type": "code",
   "execution_count": null,
   "id": "02d87d1f",
   "metadata": {},
   "outputs": [],
   "source": [
    "correlation = df[['InventoryDays', 'Profit']].corr()\n",
    "correlation"
   ]
  },
  {
   "cell_type": "code",
   "execution_count": null,
   "id": "1f3358c1",
   "metadata": {},
   "outputs": [],
   "source": [
    "sns.heatmap(correlation, annot=True, cmap='coolwarm')\n",
    "plt.title('Inventory Days vs Profit')\n",
    "plt.show()"
   ]
  }
 ],
 "metadata": {},
 "nbformat": 4,
 "nbformat_minor": 5
}
